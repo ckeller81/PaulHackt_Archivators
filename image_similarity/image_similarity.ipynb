{
 "cells": [
  {
   "cell_type": "code",
   "execution_count": 2,
   "metadata": {
    "collapsed": true,
    "ExecuteTime": {
     "end_time": "2023-05-12T19:55:23.959581700Z",
     "start_time": "2023-05-12T19:55:22.965296900Z"
    }
   },
   "outputs": [],
   "source": [
    "import torch.nn as nn\n",
    "import torch\n",
    "\n",
    "from image_similarity.triplet_net import resnet18, TripletNet, model_urls\n",
    "from image_similarity.utils import KleeImageNetLoader, train"
   ]
  },
  {
   "cell_type": "markdown",
   "source": [
    "### Create Network"
   ],
   "metadata": {
    "collapsed": false
   }
  },
  {
   "cell_type": "code",
   "execution_count": 3,
   "outputs": [],
   "source": [
    "net = TripletNet(resnet18(model_urls))"
   ],
   "metadata": {
    "collapsed": false,
    "ExecuteTime": {
     "end_time": "2023-05-12T19:55:27.026864700Z",
     "start_time": "2023-05-12T19:55:26.399991300Z"
    }
   }
  },
  {
   "cell_type": "code",
   "execution_count": 4,
   "outputs": [],
   "source": [
    "criterion = nn.TripletMarginLoss(margin=1.0, p=2)"
   ],
   "metadata": {
    "collapsed": false,
    "ExecuteTime": {
     "end_time": "2023-05-12T19:55:27.714764700Z",
     "start_time": "2023-05-12T19:55:27.696058600Z"
    }
   }
  },
  {
   "cell_type": "code",
   "execution_count": 5,
   "outputs": [],
   "source": [
    "optimizer = torch.optim.SGD(net.parameters(),\n",
    "                            lr=0.001,\n",
    "                            momentum=0.9,\n",
    "                            weight_decay=1e-5,\n",
    "                            nesterov=True)"
   ],
   "metadata": {
    "collapsed": false,
    "ExecuteTime": {
     "end_time": "2023-05-12T19:55:28.243473Z",
     "start_time": "2023-05-12T19:55:28.216038800Z"
    }
   }
  },
  {
   "cell_type": "code",
   "execution_count": 6,
   "outputs": [],
   "source": [
    "scheduler = torch.optim.lr_scheduler.ReduceLROnPlateau(optimizer,\n",
    "                                                       mode=\"min\",\n",
    "                                                       factor=0.1,\n",
    "                                                       patience=10,\n",
    "                                                       verbose=True)"
   ],
   "metadata": {
    "collapsed": false,
    "ExecuteTime": {
     "end_time": "2023-05-12T19:55:28.910237700Z",
     "start_time": "2023-05-12T19:55:28.894600700Z"
    }
   }
  },
  {
   "cell_type": "code",
   "execution_count": 7,
   "outputs": [
    {
     "name": "stdout",
     "output_type": "stream",
     "text": [
      "==> Preparing Klee ImageNet dataset ...\n"
     ]
    }
   ],
   "source": [
    "trainloader, testloader = KleeImageNetLoader(\".\", 5, 5)"
   ],
   "metadata": {
    "collapsed": false,
    "ExecuteTime": {
     "end_time": "2023-05-12T19:55:35.816399900Z",
     "start_time": "2023-05-12T19:55:29.974097Z"
    }
   }
  },
  {
   "cell_type": "code",
   "execution_count": null,
   "outputs": [
    {
     "name": "stdout",
     "output_type": "stream",
     "text": [
      "==> Start training ...\n",
      "Start with epoch 0\n"
     ]
    },
    {
     "name": "stderr",
     "output_type": "stream",
     "text": [
      "Epoch [0/0]: 100%|██████████| 80/80 [03:27<00:00,  2.60s/it]\n"
     ]
    },
    {
     "name": "stdout",
     "output_type": "stream",
     "text": [
      "Training Epoch: 1 | Loss: 2.656996965408325\n",
      "Start with epoch 1\n"
     ]
    },
    {
     "name": "stderr",
     "output_type": "stream",
     "text": [
      "Epoch [1/1]: 100%|██████████| 80/80 [03:31<00:00,  2.64s/it]\n"
     ]
    },
    {
     "name": "stdout",
     "output_type": "stream",
     "text": [
      "Training Epoch: 2 | Loss: 2.5346789360046387\n",
      "Start with epoch 2\n"
     ]
    },
    {
     "name": "stderr",
     "output_type": "stream",
     "text": [
      "Epoch [2/2]: 100%|██████████| 80/80 [03:28<00:00,  2.60s/it]\n"
     ]
    },
    {
     "name": "stdout",
     "output_type": "stream",
     "text": [
      "Training Epoch: 3 | Loss: 2.1382577419281006\n",
      "Start with epoch 3\n"
     ]
    },
    {
     "name": "stderr",
     "output_type": "stream",
     "text": [
      "Epoch [3/3]: 100%|██████████| 80/80 [03:30<00:00,  2.63s/it]\n"
     ]
    },
    {
     "name": "stdout",
     "output_type": "stream",
     "text": [
      "Training Epoch: 4 | Loss: 1.609765648841858\n",
      "Start with epoch 4\n"
     ]
    },
    {
     "name": "stderr",
     "output_type": "stream",
     "text": [
      "Epoch [4/4]: 100%|██████████| 80/80 [03:40<00:00,  2.75s/it]\n"
     ]
    },
    {
     "name": "stdout",
     "output_type": "stream",
     "text": [
      "Training Epoch: 5 | Loss: 1.158758282661438\n",
      "Start with epoch 5\n"
     ]
    },
    {
     "name": "stderr",
     "output_type": "stream",
     "text": [
      "Epoch [5/5]: 100%|██████████| 80/80 [03:45<00:00,  2.82s/it]\n"
     ]
    },
    {
     "name": "stdout",
     "output_type": "stream",
     "text": [
      "Training Epoch: 6 | Loss: 1.048116683959961\n",
      "Start with epoch 6\n"
     ]
    },
    {
     "name": "stderr",
     "output_type": "stream",
     "text": [
      "Epoch [6/6]: 100%|██████████| 80/80 [03:42<00:00,  2.78s/it]\n"
     ]
    },
    {
     "name": "stdout",
     "output_type": "stream",
     "text": [
      "Training Epoch: 7 | Loss: 0.777031421661377\n",
      "Start with epoch 7\n"
     ]
    },
    {
     "name": "stderr",
     "output_type": "stream",
     "text": [
      "Epoch [7/7]: 100%|██████████| 80/80 [03:42<00:00,  2.79s/it]\n"
     ]
    },
    {
     "name": "stdout",
     "output_type": "stream",
     "text": [
      "Training Epoch: 8 | Loss: 0.6509966254234314\n",
      "Start with epoch 8\n"
     ]
    },
    {
     "name": "stderr",
     "output_type": "stream",
     "text": [
      "Epoch [8/8]:  94%|█████████▍| 75/80 [03:24<00:17,  3.46s/it]"
     ]
    }
   ],
   "source": [
    "train(net, criterion, optimizer, scheduler, trainloader, testloader, 0, 20, False)"
   ],
   "metadata": {
    "collapsed": false,
    "is_executing": true,
    "ExecuteTime": {
     "start_time": "2023-05-12T19:56:02.117411600Z"
    }
   }
  }
 ],
 "metadata": {
  "kernelspec": {
   "display_name": "Python 3",
   "language": "python",
   "name": "python3"
  },
  "language_info": {
   "codemirror_mode": {
    "name": "ipython",
    "version": 2
   },
   "file_extension": ".py",
   "mimetype": "text/x-python",
   "name": "python",
   "nbconvert_exporter": "python",
   "pygments_lexer": "ipython2",
   "version": "2.7.6"
  }
 },
 "nbformat": 4,
 "nbformat_minor": 0
}
