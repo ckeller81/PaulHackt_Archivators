{
 "cells": [
  {
   "cell_type": "code",
   "execution_count": 16,
   "metadata": {
    "collapsed": true,
    "ExecuteTime": {
     "end_time": "2023-05-12T16:01:57.840402700Z",
     "start_time": "2023-05-12T16:01:57.840402700Z"
    }
   },
   "outputs": [],
   "source": [
    "import os\n",
    "import glob\n",
    "import pandas as pd\n",
    "import shutil"
   ]
  },
  {
   "cell_type": "code",
   "execution_count": 3,
   "outputs": [
    {
     "data": {
      "text/plain": "(454, 19)"
     },
     "execution_count": 3,
     "metadata": {},
     "output_type": "execute_result"
    }
   ],
   "source": [
    "klee_cosmos_data = pd.read_csv(\"../../A_Kunstwerke.csv\", header=0, sep=\";\")\n",
    "klee_cosmos_data = klee_cosmos_data[:454]\n",
    "klee_cosmos_data[\"ID\"] = klee_cosmos_data[\"ID\"].astype(\"int\")\n",
    "klee_cosmos_data.shape"
   ],
   "metadata": {
    "collapsed": false,
    "ExecuteTime": {
     "end_time": "2023-05-12T15:53:26.716867800Z",
     "start_time": "2023-05-12T15:53:26.634349500Z"
    }
   }
  },
  {
   "cell_type": "code",
   "execution_count": 4,
   "outputs": [
    {
     "data": {
      "text/plain": "      ID                  Austellungstitel DE  \\\n0  57375  Kosmos Klee. Die Sammlung_1899-1910   \n1  51271  Kosmos Klee. Die Sammlung_1931-1940   \n2  53112  Kosmos Klee. Die Sammlung_1931-1940   \n3  51422  Kosmos Klee. Die Sammlung_1931-1940   \n4  58258  Kosmos Klee. Die Sammlung_1931-1940   \n\n                         Austellungstitel EN     Artist  \\\n0  Klee's Universe. The Collection_1899-1910  Paul Klee   \n1  Klee's Universe. The Collection_1930-1940  Paul Klee   \n2  Klee's Universe. The Collection_1930-1940  Paul Klee   \n3  Klee's Universe. The Collection_1930-1940  Paul Klee   \n4  Klee's Universe. The Collection_1930-1940  Paul Klee   \n\n                  Titel DE             Titel EN Datierung  \\\n0              Mädchen-Akt       Nude of a Girl      1910   \n1  ein Musiker praeludiert  A Musician Preludes      1940   \n2            Hoher Wächter       Superior Guard      1940   \n3             Glas-Fassade         Glass Façade      1940   \n4            Wellenplastik       Wave Sculpture      1939   \n\n                        Werk Nr           Masse  \\\n0                     1910, 122  48,5 x 40,5 cm   \n1                1940, 46 (X 6)  29,7 x 20,9 cm   \n2              1940, 257 (M 17)      70 x 50 cm   \n3               1940, 288 (K 8)  71,3 x 95,7 cm   \n4  1939, 1128 (JK 8) getrennt 1  70,2 x 70,5 cm   \n\n                                        Mat./Tech.DE  \\\n0                               Wasserfarbe auf Holz   \n1      Wachsfarbe und Aquarell auf Papier auf Karton   \n2   Wachsfarbe auf Leinwand; originale Rahmenleisten   \n3                   Wachsfarbe auf Jute auf Leinwand   \n4  Tempera, Kreide, Kleister- und Ölfarbe auf Bau...   \n\n                                        Mat./Tech.EN  \\\n0                        watercolour on wooden panel   \n1    wax paint and watercolour on paper on cardboard   \n2                wax paint on canvas; original frame   \n3                      wax paint on burlap on canvas   \n4  tempera, chalk, coloured paste and oil on cott...   \n\n                      Schlagworte                         ID verknüpftes Werk  \\\n0  Mädchen/Kinderakt/Stuhl/Sitzen                                       51162   \n1                         Musiker                                         NaN   \n2  Aggression/Kampf/Abwehr/Männer                                 10217/10852   \n3  Kirche/Kloster/Kapelle/Fenster                                 11866/56946   \n4                Plastik/Skulptur  22496/40292/42307/52475/54945/58691/184830   \n\n                       Beschreibung verknüpftes Werk            Institution  \\\n0  auf Foto: Atelier von Paul Klee im Schlösschen...           Privatbesitz   \n1                                                NaN  Zentrum Paul Klee ***   \n2      Vergleiche: Hoher Wächter/Vergleiche: Matrose  Zentrum Paul Klee ***   \n3  Vergleiche (verso): Unfall/Vorderseite von: Oh...  Zentrum Paul Klee ***   \n4  Erwähnung: Brief von Fritz Gygi an Paul Klee/E...  Zentrum Paul Klee ***   \n\n                    Strasse Land   PLZ    Ort  \n0                       NaN  NaN   NaN    NaN  \n1  Monument im Fruchtland 3   CH  3006  Bern   \n2  Monument im Fruchtland 3   CH  3006  Bern   \n3  Monument im Fruchtland 3   CH  3006  Bern   \n4  Monument im Fruchtland 3   CH  3006  Bern   ",
      "text/html": "<div>\n<style scoped>\n    .dataframe tbody tr th:only-of-type {\n        vertical-align: middle;\n    }\n\n    .dataframe tbody tr th {\n        vertical-align: top;\n    }\n\n    .dataframe thead th {\n        text-align: right;\n    }\n</style>\n<table border=\"1\" class=\"dataframe\">\n  <thead>\n    <tr style=\"text-align: right;\">\n      <th></th>\n      <th>ID</th>\n      <th>Austellungstitel DE</th>\n      <th>Austellungstitel EN</th>\n      <th>Artist</th>\n      <th>Titel DE</th>\n      <th>Titel EN</th>\n      <th>Datierung</th>\n      <th>Werk Nr</th>\n      <th>Masse</th>\n      <th>Mat./Tech.DE</th>\n      <th>Mat./Tech.EN</th>\n      <th>Schlagworte</th>\n      <th>ID verknüpftes Werk</th>\n      <th>Beschreibung verknüpftes Werk</th>\n      <th>Institution</th>\n      <th>Strasse</th>\n      <th>Land</th>\n      <th>PLZ</th>\n      <th>Ort</th>\n    </tr>\n  </thead>\n  <tbody>\n    <tr>\n      <th>0</th>\n      <td>57375</td>\n      <td>Kosmos Klee. Die Sammlung_1899-1910</td>\n      <td>Klee's Universe. The Collection_1899-1910</td>\n      <td>Paul Klee</td>\n      <td>Mädchen-Akt</td>\n      <td>Nude of a Girl</td>\n      <td>1910</td>\n      <td>1910, 122</td>\n      <td>48,5 x 40,5 cm</td>\n      <td>Wasserfarbe auf Holz</td>\n      <td>watercolour on wooden panel</td>\n      <td>Mädchen/Kinderakt/Stuhl/Sitzen</td>\n      <td>51162</td>\n      <td>auf Foto: Atelier von Paul Klee im Schlösschen...</td>\n      <td>Privatbesitz</td>\n      <td>NaN</td>\n      <td>NaN</td>\n      <td>NaN</td>\n      <td>NaN</td>\n    </tr>\n    <tr>\n      <th>1</th>\n      <td>51271</td>\n      <td>Kosmos Klee. Die Sammlung_1931-1940</td>\n      <td>Klee's Universe. The Collection_1930-1940</td>\n      <td>Paul Klee</td>\n      <td>ein Musiker praeludiert</td>\n      <td>A Musician Preludes</td>\n      <td>1940</td>\n      <td>1940, 46 (X 6)</td>\n      <td>29,7 x 20,9 cm</td>\n      <td>Wachsfarbe und Aquarell auf Papier auf Karton</td>\n      <td>wax paint and watercolour on paper on cardboard</td>\n      <td>Musiker</td>\n      <td>NaN</td>\n      <td>NaN</td>\n      <td>Zentrum Paul Klee ***</td>\n      <td>Monument im Fruchtland 3</td>\n      <td>CH</td>\n      <td>3006</td>\n      <td>Bern</td>\n    </tr>\n    <tr>\n      <th>2</th>\n      <td>53112</td>\n      <td>Kosmos Klee. Die Sammlung_1931-1940</td>\n      <td>Klee's Universe. The Collection_1930-1940</td>\n      <td>Paul Klee</td>\n      <td>Hoher Wächter</td>\n      <td>Superior Guard</td>\n      <td>1940</td>\n      <td>1940, 257 (M 17)</td>\n      <td>70 x 50 cm</td>\n      <td>Wachsfarbe auf Leinwand; originale Rahmenleisten</td>\n      <td>wax paint on canvas; original frame</td>\n      <td>Aggression/Kampf/Abwehr/Männer</td>\n      <td>10217/10852</td>\n      <td>Vergleiche: Hoher Wächter/Vergleiche: Matrose</td>\n      <td>Zentrum Paul Klee ***</td>\n      <td>Monument im Fruchtland 3</td>\n      <td>CH</td>\n      <td>3006</td>\n      <td>Bern</td>\n    </tr>\n    <tr>\n      <th>3</th>\n      <td>51422</td>\n      <td>Kosmos Klee. Die Sammlung_1931-1940</td>\n      <td>Klee's Universe. The Collection_1930-1940</td>\n      <td>Paul Klee</td>\n      <td>Glas-Fassade</td>\n      <td>Glass Façade</td>\n      <td>1940</td>\n      <td>1940, 288 (K 8)</td>\n      <td>71,3 x 95,7 cm</td>\n      <td>Wachsfarbe auf Jute auf Leinwand</td>\n      <td>wax paint on burlap on canvas</td>\n      <td>Kirche/Kloster/Kapelle/Fenster</td>\n      <td>11866/56946</td>\n      <td>Vergleiche (verso): Unfall/Vorderseite von: Oh...</td>\n      <td>Zentrum Paul Klee ***</td>\n      <td>Monument im Fruchtland 3</td>\n      <td>CH</td>\n      <td>3006</td>\n      <td>Bern</td>\n    </tr>\n    <tr>\n      <th>4</th>\n      <td>58258</td>\n      <td>Kosmos Klee. Die Sammlung_1931-1940</td>\n      <td>Klee's Universe. The Collection_1930-1940</td>\n      <td>Paul Klee</td>\n      <td>Wellenplastik</td>\n      <td>Wave Sculpture</td>\n      <td>1939</td>\n      <td>1939, 1128 (JK 8) getrennt 1</td>\n      <td>70,2 x 70,5 cm</td>\n      <td>Tempera, Kreide, Kleister- und Ölfarbe auf Bau...</td>\n      <td>tempera, chalk, coloured paste and oil on cott...</td>\n      <td>Plastik/Skulptur</td>\n      <td>22496/40292/42307/52475/54945/58691/184830</td>\n      <td>Erwähnung: Brief von Fritz Gygi an Paul Klee/E...</td>\n      <td>Zentrum Paul Klee ***</td>\n      <td>Monument im Fruchtland 3</td>\n      <td>CH</td>\n      <td>3006</td>\n      <td>Bern</td>\n    </tr>\n  </tbody>\n</table>\n</div>"
     },
     "execution_count": 4,
     "metadata": {},
     "output_type": "execute_result"
    }
   ],
   "source": [
    "klee_cosmos_data.head()"
   ],
   "metadata": {
    "collapsed": false,
    "ExecuteTime": {
     "end_time": "2023-05-12T15:53:41.216888100Z",
     "start_time": "2023-05-12T15:53:41.216888100Z"
    }
   }
  },
  {
   "cell_type": "code",
   "execution_count": 26,
   "outputs": [
    {
     "data": {
      "text/plain": "439"
     },
     "execution_count": 26,
     "metadata": {},
     "output_type": "execute_result"
    }
   ],
   "source": [
    "klee_cosmos_images = glob.glob(\"./data/*\")\n",
    "len(klee_cosmos_images)"
   ],
   "metadata": {
    "collapsed": false,
    "ExecuteTime": {
     "end_time": "2023-05-12T16:08:57.191365700Z",
     "start_time": "2023-05-12T16:08:57.175698500Z"
    }
   }
  },
  {
   "cell_type": "code",
   "execution_count": 27,
   "outputs": [],
   "source": [
    "for image_path in klee_cosmos_images:\n",
    "    file_name = os.path.basename(image_path).replace(\".jpg\", \"\")\n",
    "    row = klee_cosmos_data[klee_cosmos_data[\"ID\"] == int(file_name)]\n",
    "\n",
    "    technik = str(row[\"Mat./Tech.DE\"].values[0])\n",
    "    first_technik = technik.split(\" \")[0]\n",
    "    first_technik = first_technik.\\\n",
    "        replace(\"Ö\", \"Oe\") \\\n",
    "        .replace(\"ö\", \"oe\") \\\n",
    "        .replace(\"Ä\", \"Ae\") \\\n",
    "        .replace(\"ä\", \"ae\") \\\n",
    "        .replace(\",\", \"\") \\\n",
    "        .replace(\"-\", \"\") \\\n",
    "        .replace(\";\", \"\") \\\n",
    "        .replace(\" \", \"\")\n",
    "\n",
    "\n",
    "    class_folder = f\"./data/{first_technik}\"\n",
    "    if not os.path.exists(class_folder):\n",
    "        os.mkdir(class_folder)\n",
    "\n",
    "    shutil.move(image_path, os.path.join(class_folder, os.path.basename(image_path)))"
   ],
   "metadata": {
    "collapsed": false,
    "ExecuteTime": {
     "end_time": "2023-05-12T16:09:04.272824400Z",
     "start_time": "2023-05-12T16:08:59.689149700Z"
    }
   }
  }
 ],
 "metadata": {
  "kernelspec": {
   "display_name": "Python 3",
   "language": "python",
   "name": "python3"
  },
  "language_info": {
   "codemirror_mode": {
    "name": "ipython",
    "version": 2
   },
   "file_extension": ".py",
   "mimetype": "text/x-python",
   "name": "python",
   "nbconvert_exporter": "python",
   "pygments_lexer": "ipython2",
   "version": "2.7.6"
  }
 },
 "nbformat": 4,
 "nbformat_minor": 0
}
